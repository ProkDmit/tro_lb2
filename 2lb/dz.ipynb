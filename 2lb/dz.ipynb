{
 "cells": [
  {
   "cell_type": "markdown",
   "metadata": {},
   "source": [
    "### Задание №1"
   ]
  },
  {
   "cell_type": "markdown",
   "metadata": {},
   "source": [
    "Создайте два массива: в первом должны быть четные числа от 2 до 12 включительно, а в другом числа 7, 11, 15, 18, 23, 29."
   ]
  },
  {
   "cell_type": "markdown",
   "metadata": {},
   "source": [
    "$1.$ Сложите массивы и возведите элементы получившегося массива в квадрат:"
   ]
  },
  {
   "cell_type": "code",
   "execution_count": 1,
   "metadata": {
    "jupyter": {
     "outputs_hidden": true
    }
   },
   "outputs": [
    {
     "name": "stdout",
     "output_type": "stream",
     "text": [
      "[  81  225  441  676 1089 1681]\n"
     ]
    }
   ],
   "source": [
    "import numpy as np\n",
    "a = np.arange(2, 13, 2)\n",
    "b = np.array([7, 11, 15, 18, 23, 29])\n",
    "a = (a + b) ** 2\n",
    "print(a)"
   ]
  },
  {
   "cell_type": "markdown",
   "metadata": {},
   "source": [
    "$2.$ Выведите все элементы из первого массива, индексы которых соответствуют индексам тех элементов второго массива, которые больше 12 и дают остаток 3 при делении на 5."
   ]
  },
  {
   "cell_type": "code",
   "execution_count": 2,
   "metadata": {
    "jupyter": {
     "outputs_hidden": true
    }
   },
   "outputs": [
    {
     "name": "stdout",
     "output_type": "stream",
     "text": [
      "13\n",
      "28\n",
      "43\n",
      "58\n",
      "73\n",
      "88\n",
      "103\n",
      "118\n",
      "133\n",
      "148\n",
      "163\n",
      "178\n",
      "193\n",
      "208\n",
      "223\n",
      "238\n",
      "253\n",
      "268\n",
      "283\n",
      "298\n",
      "313\n",
      "328\n",
      "343\n",
      "358\n",
      "373\n",
      "388\n",
      "403\n",
      "418\n",
      "433\n",
      "448\n",
      "463\n",
      "478\n",
      "493\n",
      "508\n",
      "523\n",
      "538\n",
      "553\n",
      "568\n",
      "583\n",
      "598\n",
      "613\n",
      "628\n",
      "643\n",
      "658\n",
      "673\n",
      "688\n",
      "703\n",
      "718\n",
      "733\n",
      "748\n",
      "763\n",
      "778\n",
      "793\n",
      "808\n",
      "823\n",
      "838\n",
      "853\n",
      "868\n",
      "883\n",
      "898\n",
      "913\n",
      "928\n",
      "943\n",
      "958\n",
      "973\n",
      "988\n",
      "1003\n",
      "1018\n",
      "1033\n",
      "1048\n",
      "1063\n",
      "1078\n",
      "1093\n",
      "1108\n"
     ]
    }
   ],
   "source": [
    "a = np.arange(1, 1111, 3)\n",
    "\n",
    "for item in a:\n",
    "    if item > 12 and item % 5 == 3:\n",
    "        print(item)"
   ]
  },
  {
   "cell_type": "markdown",
   "metadata": {},
   "source": [
    "*3.* Проверьте условие \"Элементы первого массива делятся на 4, элементы второго массива меньше 14\". (Подсказка: в результате должен получиться массив с True и False)"
   ]
  },
  {
   "cell_type": "code",
   "execution_count": 3,
   "metadata": {},
   "outputs": [
    {
     "data": {
      "text/plain": [
       "array([ True, False,  True, False,  True, False,  True, False,  True,\n",
       "       False,  True, False,  True, False, False, False, False, False,\n",
       "       False, False, False, False, False, False, False, False, False,\n",
       "       False, False, False, False, False, False, False, False, False,\n",
       "       False, False, False, False, False, False, False, False, False,\n",
       "       False, False, False, False, False, False, False, False, False,\n",
       "       False, False, False, False, False, False, False, False, False,\n",
       "       False, False, False, False, False, False, False, False, False,\n",
       "       False, False, False, False, False, False, False, False, False,\n",
       "       False, False, False, False, False, False, False, False, False,\n",
       "       False, False, False, False, False, False, False, False, False,\n",
       "       False, False, False, False, False, False, False, False, False,\n",
       "       False, False, False])"
      ]
     },
     "execution_count": 3,
     "metadata": {},
     "output_type": "execute_result"
    }
   ],
   "source": [
    "a = np.arange(0, 222, 2)\n",
    "b = np.arange(0, 111, 1)\n",
    "np.where((a % 4 == 0) & (b < 14), True, False)"
   ]
  },
  {
   "cell_type": "markdown",
   "metadata": {},
   "source": [
    "### Задание №2"
   ]
  },
  {
   "cell_type": "markdown",
   "metadata": {
    "collapsed": true,
    "jupyter": {
     "outputs_hidden": true
    }
   },
   "source": [
    "* Найдите интересный для вас датасет. Например, можно выбрать датасет тут. http://data.un.org/Explorer.aspx (выбираете датасет, жмете на view data, потом download, выбирайте csv формат)\n",
    "* Рассчитайте подходящие описательные статистики для признаков объектов в выбранном датасете\n",
    "* Проанализируйте и прокомментируйте содержательно получившиеся результаты\n",
    "* Все комментарии оформляйте строго в ячейках формата markdown\n",
    "    "
   ]
  },
  {
   "cell_type": "code",
   "execution_count": 4,
   "metadata": {},
   "outputs": [
    {
     "name": "stdout",
     "output_type": "stream",
     "text": [
      "Среднее значение выбросов NO2/год: 83228.04881670212\n",
      "Стандартоное отклоненение выбросов NO2: 17559.570743709948\n"
     ]
    }
   ],
   "source": [
    "import csv\n",
    "from matplotlib import pylab as plt\n",
    "%matplotlib inline* Найдите интересный для вас датасет. Например, можно выбрать датасет тут. http://data.un.org/Explorer.aspx (выбираете датасет, жмете на view data, потом download, выбирайте csv формат)\n",
    "* Рассчитайте подходящие описательные статистики для признаков объектов в выбранном датасете\n",
    "* Проанализируйте и прокомментируйте содержательно получившиеся результаты\n",
    "* Все комментарии оформляйте строго в ячейках формата markdown\n",
    "    \n",
    "import statistics\n",
    "\n",
    "\n",
    "year = []\n",
    "emissions = []\n",
    "\n",
    "with open('NO2.csv', 'r', newline='', encoding='utf-8') as csvfile:\n",
    "    reader = csv.reader(csvfile, delimiter=',')\n",
    "    next(reader)\n",
    "    for i in reader:\n",
    "        if i:\n",
    "            if i[0] == 'Russian Federation':\n",
    "                year.append(int(i[1]))\n",
    "                emissions.append(float(i[2]))\n",
    "\n",
    "aver_em = 0\n",
    "for item in emissions:\n",
    "    aver_em += item\n",
    "aver_em = aver_em / len(emissions)\n",
    "\n",
    "stoem = statistics.stdev(emissions)\n",
    "    \n",
    "print(f'Среднее значение выбросов NO2/год: {aver_em}')\n",
    "print(f'Стандартоное отклоненение выбросов NO2: {stoem}')"
   ]
  },
  {
   "cell_type": "code",
   "execution_count": null,
   "metadata": {},
   "outputs": [],
   "source": []
  }
 ],
 "metadata": {
  "kernelspec": {
   "display_name": "Python 3 (ipykernel)",
   "language": "python",
   "name": "python3"
  },
  "language_info": {
   "codemirror_mode": {
    "name": "ipython",
    "version": 3
   },
   "file_extension": ".py",
   "mimetype": "text/x-python",
   "name": "python",
   "nbconvert_exporter": "python",
   "pygments_lexer": "ipython3",
   "version": "3.9.13"
  }
 },
 "nbformat": 4,
 "nbformat_minor": 4
}
