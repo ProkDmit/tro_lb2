{
 "cells": [
  {
   "cell_type": "markdown",
   "id": "7b4d34d7",
   "metadata": {},
   "source": [
    "3. Дана целочисленная прямоугольная матрица. Определить:\n",
    "    \n",
    "количество столбцов, содержащих хотя бы один нулевой элемент;\n",
    "\n",
    "номер строки, в которой находится самая длинная серия одинаковых элементов."
   ]
  },
  {
   "cell_type": "code",
   "execution_count": 1,
   "id": "83cf9fe8",
   "metadata": {},
   "outputs": [],
   "source": [
    "import numpy as np"
   ]
  },
  {
   "cell_type": "code",
   "execution_count": 2,
   "id": "d44760fb",
   "metadata": {},
   "outputs": [
    {
     "data": {
      "text/plain": [
       "array([[3, 2, 1, 4, 5, 0, 5, 1],\n",
       "       [5, 4, 3, 0, 0, 4, 3, 2],\n",
       "       [5, 5, 5, 5, 0, 3, 1, 1],\n",
       "       [3, 4, 5, 5, 0, 1, 4, 5],\n",
       "       [0, 0, 2, 3, 5, 8, 7, 2]])"
      ]
     },
     "execution_count": 2,
     "metadata": {},
     "output_type": "execute_result"
    }
   ],
   "source": [
    "m=np.array([[3, 2, 1, 4, 5, 0, 5, 1], [5, 4, 3, 0, 0, 4, 3, 2],\n",
    "           [5, 5, 5, 5, 0, 3, 1, 1], [3, 4, 5, 5, 0, 1, 4, 5], [0, 0, 2, 3, 5, 8, 7, 2]])\n",
    "m"
   ]
  },
  {
   "cell_type": "code",
   "execution_count": 3,
   "id": "bb9651a3",
   "metadata": {},
   "outputs": [
    {
     "data": {
      "text/plain": [
       "array([[1, 1, 1, 1, 1, 0, 1, 1],\n",
       "       [1, 1, 1, 0, 0, 1, 1, 1],\n",
       "       [1, 1, 1, 1, 0, 1, 1, 1],\n",
       "       [1, 1, 1, 1, 0, 1, 1, 1],\n",
       "       [0, 0, 1, 1, 1, 1, 1, 1]])"
      ]
     },
     "execution_count": 3,
     "metadata": {},
     "output_type": "execute_result"
    }
   ],
   "source": [
    "m[m!=0]=1\n",
    "m"
   ]
  },
  {
   "cell_type": "code",
   "execution_count": 4,
   "id": "47ff8041",
   "metadata": {},
   "outputs": [
    {
     "data": {
      "text/plain": [
       "5"
      ]
     },
     "execution_count": 4,
     "metadata": {},
     "output_type": "execute_result"
    }
   ],
   "source": [
    "ans =8 - m.prod(axis = 0).sum()\n",
    "ans"
   ]
  },
  {
   "cell_type": "code",
   "execution_count": 5,
   "id": "5050d46a",
   "metadata": {},
   "outputs": [],
   "source": [
    "matrix = np.array([\n",
    "        [1, 2, 1, 4, 4, 4, 4, 4, 4],\n",
    "        [1, 1, 1, 1, 1, 2, 2, 2, 2],\n",
    "        [1, 4, 2, 2, 2, 2, 2, 2, 2]\n",
    "    ])"
   ]
  },
  {
   "cell_type": "code",
   "execution_count": 6,
   "id": "facb5620",
   "metadata": {},
   "outputs": [
    {
     "data": {
      "text/plain": [
       "2"
      ]
     },
     "execution_count": 6,
     "metadata": {},
     "output_type": "execute_result"
    }
   ],
   "source": [
    "np.argmax([np.max(np.diff(np.where(np.concatenate(([row[0]], row[:-1] != row[1:],\n",
    "                                                              [True])))[0])) + 1 for row in matrix])"
   ]
  },
  {
   "cell_type": "code",
   "execution_count": null,
   "id": "dffc103c",
   "metadata": {},
   "outputs": [],
   "source": []
  }
 ],
 "metadata": {
  "kernelspec": {
   "display_name": "Python 3 (ipykernel)",
   "language": "python",
   "name": "python3"
  },
  "language_info": {
   "codemirror_mode": {
    "name": "ipython",
    "version": 3
   },
   "file_extension": ".py",
   "mimetype": "text/x-python",
   "name": "python",
   "nbconvert_exporter": "python",
   "pygments_lexer": "ipython3",
   "version": "3.9.13"
  }
 },
 "nbformat": 4,
 "nbformat_minor": 5
}
